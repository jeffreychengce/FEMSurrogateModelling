{
 "cells": [
  {
   "cell_type": "code",
   "execution_count": 190,
   "id": "d07f93a0-a7e0-4248-9a90-5a5d86fcb6b5",
   "metadata": {},
   "outputs": [],
   "source": [
    "import torch\n",
    "import matplotlib.pyplot as plt\n",
    "import numpy as np\n",
    "\n"
   ]
  },
  {
   "cell_type": "code",
   "execution_count": 210,
   "id": "f77a4f4a",
   "metadata": {},
   "outputs": [],
   "source": [
    "def mpm(E):\n",
    "    # nsteps\n",
    "    nsteps = 5200\n",
    "    \n",
    "    # mom tolerance\n",
    "    tol = 1e-12\n",
    "\n",
    "    # Domain\n",
    "    L = 25\n",
    "\n",
    "    # Material properties\n",
    "    # E = 100\n",
    "    rho = 1\n",
    "\n",
    "    # Computational grid\n",
    "    nelements = 13 # number of elements\n",
    "    dx = L / nelements # element length\n",
    "\n",
    "    # Create equally spaced nodes\n",
    "    x_n = np.linspace(0, L, nelements+1)\n",
    "    nnodes = len(x_n)\n",
    "\n",
    "    # Set-up a 2D array of elements with node ids\n",
    "    elements = np.zeros((nelements, 2), dtype = int)\n",
    "    for nid in range(nelements):\n",
    "        elements[nid,0] = nid\n",
    "        elements[nid,1] = nid + 1\n",
    "\n",
    "    # Loading conditions\n",
    "    v0 = 0.1             # initial velocity\n",
    "    c  = torch.sqrt(E/rho)  # speed of sound\n",
    "    b1 = np.pi / (2 * L) # beta1\n",
    "    w1 = b1 * c          # omega1\n",
    "\n",
    "    # Create material points at the center of each element\n",
    "    torcharticles = nelements  # number of particles\n",
    "    # Id of the particle in the central element\n",
    "    pmid = 6\n",
    "\n",
    "    # Material point properties\n",
    "    x_p      = np.zeros(torcharticles)       # positions\n",
    "    vol_p    = np.ones(torcharticles) * dx   # volume\n",
    "    mass_p   = vol_p * rho                 # mass\n",
    "    stress_p = np.zeros(torcharticles)       # stress\n",
    "    vel_p    = np.zeros(torcharticles)       # velocity\n",
    "\n",
    "    # Create particle at the center\n",
    "    x_p      = 0.5 * (x_n[:-1] + x_n[1:])\n",
    "    \n",
    "    # set initial velocities\n",
    "    vel_p    = v0 * np.sin(b1 * x_p)\n",
    "    \n",
    "    # Time steps and duration\n",
    "    dt_crit = dx / c\n",
    "    dt = 0.02\n",
    "    \n",
    "    # results\n",
    "    tt = np.zeros(nsteps)\n",
    "    vt = np.zeros(nsteps)\n",
    "    xt = np.zeros(nsteps)\n",
    "\n",
    "    def step(i, carry):\n",
    "        x_p, mass_p, vel_p, vol_p, stress_p, vt, xt = carry\n",
    "        # reset nodal values\n",
    "        mass_n  = np.zeros(nnodes)  # mass\n",
    "        mom_n   = np.zeros(nnodes)  # momentum\n",
    "        fint_n  = np.zeros(nnodes)  # internal force\n",
    "\n",
    "        # iterate through each element\n",
    "        for eid in range(nelements):\n",
    "            # get nodal ids\n",
    "            nid1, nid2 = elements[eid]\n",
    "\n",
    "            # compute shape functions and derivatives\n",
    "            N1 = 1 - abs(x_p[eid] - x_n[nid1])/dx\n",
    "            N2 = 1 - abs(x_p[eid] - x_n[nid2])/dx\n",
    "            dN1 = -1/dx\n",
    "            dN2 = 1/dx\n",
    "\n",
    "            # map particle mass and momentum to nodes\n",
    "            mass_n[nid1] = mass_n[nid1] + N1 * mass_p[eid]\n",
    "            mass_n[nid2] = mass_n[nid2] + N2 * mass_p[eid]\n",
    "\n",
    "            mom_n[nid1] = mom_n[nid1] + N1 * mass_p[eid] * vel_p[eid]\n",
    "            mom_n[nid2] = mom_n[nid2] + N2 * mass_p[eid] * vel_p[eid]\n",
    "\n",
    "            # compute nodal internal force\n",
    "            fint_n[nid1] -= vol_p[eid] * stress_p[eid] * dN1\n",
    "            fint_n[nid2] -= vol_p[eid] * stress_p[eid] * dN2\n",
    "        \n",
    "        # apply boundary conditions\n",
    "        mom_n[0]  = 0  # Nodal velocity v = 0 in m * v at node 0.\n",
    "        fint_n[0] = 0 # Nodal force f = m * a, where a = 0 at node 0.\n",
    "\n",
    "        # update nodal momentum\n",
    "        mom_n = mom_n + fint_n * dt\n",
    "\n",
    "        # update particle velocity position and stress\n",
    "        # iterate through each element\n",
    "        for eid in range(nelements):\n",
    "            # get nodal ids\n",
    "            nid1, nid2 = elements[eid]\n",
    "\n",
    "            # compute shape functions and derivatives\n",
    "            N1 = 1 - abs(x_p[eid] - x_n[nid1])/dx\n",
    "            N2 = 1 - abs(x_p[eid] - x_n[nid2])/dx\n",
    "            dN1 = -1/dx\n",
    "            dN2 = 1/dx\n",
    "\n",
    "            # compute particle velocity\n",
    "            # if (mass_n[nid1]) > tol:\n",
    "            vel_p[eid] += dt * N1 * fint_n[nid1] / mass_n[nid1]\n",
    "            # if (mass_n[nid2]) > tol:\n",
    "            vel_p[eid] += dt * N2 * fint_n[nid2] / mass_n[nid2]\n",
    "\n",
    "            # update particle position based on nodal momentum\n",
    "            x_p[eid] += dt * (N1 * mom_n[nid1]/mass_n[nid1] + N2 * mom_n[nid2]/mass_n[nid2])\n",
    "\n",
    "            # nodal velocity\n",
    "            nv1 = mom_n[nid1]/mass_n[nid1]\n",
    "            nv2 = mom_n[nid2]/mass_n[nid2]\n",
    "\n",
    "             # rate of strain increment\n",
    "            grad_v = dN1 * nv1 + dN2 * nv2\n",
    "            # particle dstrain\n",
    "            dstrain = grad_v * dt\n",
    "            # particle volume\n",
    "            vol_p[eid] *= (1 + dstrain)   \n",
    "            # update stress using linear elastic model\n",
    "            stress_p[eid] += E * dstrain\n",
    "        # results\n",
    "        vt[i] = vel_p[pmid]\n",
    "        xt[i] = x_p[pmid]\n",
    "\n",
    "        return (x_p, mass_p, vel_p, vol_p, stress_p, vt, xt)\n",
    "\n",
    "    for i in range(0, nsteps):\n",
    "        x_p, mass_p, vel_p, vol_p, stress_p, vt, xt = step(i, (x_p, mass_p, vel_p, vol_p, stress_p, vt, xt))\n",
    "\n",
    "\n",
    "    return vt\n",
    "\n"
   ]
  },
  {
   "cell_type": "code",
   "execution_count": 211,
   "id": "83a7d8ea",
   "metadata": {},
   "outputs": [],
   "source": [
    "# Assign target\n",
    "Etarget = torch.tensor(100)\n",
    "target = mpm(Etarget)"
   ]
  },
  {
   "cell_type": "code",
   "execution_count": 212,
   "metadata": {},
   "outputs": [
    {
     "data": {
      "text/plain": [
       "array([ 0.07071068,  0.07069956,  0.07067733, ..., -0.04808849,\n",
       "       -0.04873531, -0.04937458])"
      ]
     },
     "execution_count": 212,
     "metadata": {},
     "output_type": "execute_result"
    }
   ],
   "source": [
    "target"
   ]
  },
  {
   "cell_type": "code",
   "execution_count": 213,
   "id": "173dcd64",
   "metadata": {},
   "outputs": [],
   "source": [
    "def loss_norm(E):\n",
    "    vt = mpm(E)\n",
    "    return torch.norm(vt - target)"
   ]
  },
  {
   "cell_type": "code",
   "execution_count": 214,
   "id": "540b125e",
   "metadata": {},
   "outputs": [],
   "source": [
    "E_guess = 95.0\n",
    "\n",
    "params = torch.nn.ParameterList([torch.tensor(E_guess, requires_grad=True)])\n"
   ]
  },
  {
   "cell_type": "code",
   "execution_count": 215,
   "id": "189fb313",
   "metadata": {},
   "outputs": [
    {
     "data": {
      "text/plain": [
       "True"
      ]
     },
     "execution_count": 215,
     "metadata": {},
     "output_type": "execute_result"
    }
   ],
   "source": [
    "params[0].requires_grad"
   ]
  },
  {
   "cell_type": "code",
   "execution_count": 216,
   "id": "950c8879",
   "metadata": {},
   "outputs": [
    {
     "ename": "RuntimeError",
     "evalue": "Can't call numpy() on Tensor that requires grad. Use tensor.detach().numpy() instead.",
     "output_type": "error",
     "traceback": [
      "\u001b[1;31m---------------------------------------------------------------------------\u001b[0m",
      "\u001b[1;31mRuntimeError\u001b[0m                              Traceback (most recent call last)",
      "Cell \u001b[1;32mIn [216], line 9\u001b[0m\n\u001b[0;32m      7\u001b[0m \u001b[39mfor\u001b[39;00m i \u001b[39min\u001b[39;00m \u001b[39mrange\u001b[39m(niter):\n\u001b[0;32m      8\u001b[0m     optimizer\u001b[39m.\u001b[39mzero_grad()\n\u001b[1;32m----> 9\u001b[0m     loss \u001b[39m=\u001b[39m loss_norm(params[\u001b[39m0\u001b[39;49m])\n\u001b[0;32m     10\u001b[0m     loss\u001b[39m.\u001b[39mbackward()\n\u001b[0;32m     11\u001b[0m     optimizer\u001b[39m.\u001b[39mstep()\n",
      "Cell \u001b[1;32mIn [213], line 2\u001b[0m, in \u001b[0;36mloss_norm\u001b[1;34m(E)\u001b[0m\n\u001b[0;32m      1\u001b[0m \u001b[39mdef\u001b[39;00m \u001b[39mloss_norm\u001b[39m(E):\n\u001b[1;32m----> 2\u001b[0m     vt \u001b[39m=\u001b[39m mpm(E)\n\u001b[0;32m      3\u001b[0m     \u001b[39mreturn\u001b[39;00m torch\u001b[39m.\u001b[39mnorm(vt \u001b[39m-\u001b[39m target)\n",
      "Cell \u001b[1;32mIn [210], line 31\u001b[0m, in \u001b[0;36mmpm\u001b[1;34m(E)\u001b[0m\n\u001b[0;32m     29\u001b[0m \u001b[39m# Loading conditions\u001b[39;00m\n\u001b[0;32m     30\u001b[0m v0 \u001b[39m=\u001b[39m \u001b[39m0.1\u001b[39m             \u001b[39m# initial velocity\u001b[39;00m\n\u001b[1;32m---> 31\u001b[0m c  \u001b[39m=\u001b[39m np\u001b[39m.\u001b[39;49msqrt(E\u001b[39m/\u001b[39;49mrho)  \u001b[39m# speed of sound\u001b[39;00m\n\u001b[0;32m     32\u001b[0m b1 \u001b[39m=\u001b[39m np\u001b[39m.\u001b[39mpi \u001b[39m/\u001b[39m (\u001b[39m2\u001b[39m \u001b[39m*\u001b[39m L) \u001b[39m# beta1\u001b[39;00m\n\u001b[0;32m     33\u001b[0m w1 \u001b[39m=\u001b[39m b1 \u001b[39m*\u001b[39m c          \u001b[39m# omega1\u001b[39;00m\n",
      "File \u001b[1;32mc:\\Users\\Jeffrey\\.conda\\envs\\prod_env\\lib\\site-packages\\torch\\_tensor.py:956\u001b[0m, in \u001b[0;36mTensor.__array__\u001b[1;34m(self, dtype)\u001b[0m\n\u001b[0;32m    954\u001b[0m     \u001b[39mreturn\u001b[39;00m handle_torch_function(Tensor\u001b[39m.\u001b[39m__array__, (\u001b[39mself\u001b[39m,), \u001b[39mself\u001b[39m, dtype\u001b[39m=\u001b[39mdtype)\n\u001b[0;32m    955\u001b[0m \u001b[39mif\u001b[39;00m dtype \u001b[39mis\u001b[39;00m \u001b[39mNone\u001b[39;00m:\n\u001b[1;32m--> 956\u001b[0m     \u001b[39mreturn\u001b[39;00m \u001b[39mself\u001b[39;49m\u001b[39m.\u001b[39;49mnumpy()\n\u001b[0;32m    957\u001b[0m \u001b[39melse\u001b[39;00m:\n\u001b[0;32m    958\u001b[0m     \u001b[39mreturn\u001b[39;00m \u001b[39mself\u001b[39m\u001b[39m.\u001b[39mnumpy()\u001b[39m.\u001b[39mastype(dtype, copy\u001b[39m=\u001b[39m\u001b[39mFalse\u001b[39;00m)\n",
      "\u001b[1;31mRuntimeError\u001b[0m: Can't call numpy() on Tensor that requires grad. Use tensor.detach().numpy() instead."
     ]
    }
   ],
   "source": [
    "optimizer = torch.optim.Adam(params, lr = 1e-1)\n",
    "\n",
    "\n",
    "niter = 1000\n",
    "\n",
    "# training loop\n",
    "for i in range(niter):\n",
    "    optimizer.zero_grad()\n",
    "    loss = loss_norm(params[0])\n",
    "    loss.backward()\n",
    "    optimizer.step()\n",
    "\n"
   ]
  },
  {
   "cell_type": "code",
   "execution_count": null,
   "id": "727c1eb1",
   "metadata": {},
   "outputs": [
    {
     "data": {
      "text/plain": [
       "Parameter containing:\n",
       "tensor(95., requires_grad=True)"
      ]
     },
     "execution_count": 183,
     "metadata": {},
     "output_type": "execute_result"
    }
   ],
   "source": [
    "params[0]"
   ]
  }
 ],
 "metadata": {
  "kernelspec": {
   "display_name": "prod_env",
   "language": "python",
   "name": "python3"
  },
  "language_info": {
   "codemirror_mode": {
    "name": "ipython",
    "version": 3
   },
   "file_extension": ".py",
   "mimetype": "text/x-python",
   "name": "python",
   "nbconvert_exporter": "python",
   "pygments_lexer": "ipython3",
   "version": "3.10.9"
  },
  "vscode": {
   "interpreter": {
    "hash": "1525b7a58d9258ffdc186202bfcf646afb1c493419ac2ef1e087d5fa85e9c328"
   }
  }
 },
 "nbformat": 4,
 "nbformat_minor": 5
}
