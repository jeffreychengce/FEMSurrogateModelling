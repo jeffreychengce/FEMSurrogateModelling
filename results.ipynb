{
 "cells": [
  {
   "cell_type": "code",
   "execution_count": 14,
   "metadata": {},
   "outputs": [
    {
     "data": {
      "text/plain": [
       "Index(['id', 'mass', 'volume', 'pressure', 'coord_x', 'coord_y', 'coord_z',\n",
       "       'displacement_x', 'displacement_y', 'displacement_z', 'nsize_x',\n",
       "       'nsize_y', 'nsize_z', 'velocity_x', 'velocity_y', 'velocity_z',\n",
       "       'stress_xx', 'stress_yy', 'stress_zz', 'tau_xy', 'tau_yz', 'tau_xz',\n",
       "       'strain_xx', 'strain_yy', 'strain_zz', 'gamma_xy', 'gamma_yz',\n",
       "       'gamma_xz', 'epsilon_v', 'cell_id', 'status', 'material_id',\n",
       "       'nstate_vars', 'svars_0', 'svars_1', 'svars_2', 'svars_3', 'svars_4',\n",
       "       'svars_5', 'svars_6', 'svars_7', 'svars_8', 'svars_9', 'svars_10',\n",
       "       'svars_11', 'svars_12', 'svars_13', 'svars_14', 'svars_15', 'svars_16',\n",
       "       'svars_17', 'svars_18', 'svars_19'],\n",
       "      dtype='object')"
      ]
     },
     "execution_count": 14,
     "metadata": {},
     "output_type": "execute_result"
    }
   ],
   "source": [
    "import pandas as pd\n",
    "df = pd.read_hdf('particles05.h5', 'table')\n",
    "\n",
    "df.columns"
   ]
  },
  {
   "cell_type": "code",
   "execution_count": 16,
   "metadata": {},
   "outputs": [
    {
     "data": {
      "text/plain": [
       "0    0.0\n",
       "1    0.0\n",
       "2    0.0\n",
       "3    0.0\n",
       "Name: tau_xy, dtype: float64"
      ]
     },
     "execution_count": 16,
     "metadata": {},
     "output_type": "execute_result"
    }
   ],
   "source": [
    "df['tau_xy']"
   ]
  },
  {
   "cell_type": "code",
   "execution_count": null,
   "metadata": {},
   "outputs": [],
   "source": []
  }
 ],
 "metadata": {
  "kernelspec": {
   "display_name": "env_surrogate",
   "language": "python",
   "name": "python3"
  },
  "language_info": {
   "codemirror_mode": {
    "name": "ipython",
    "version": 3
   },
   "file_extension": ".py",
   "mimetype": "text/x-python",
   "name": "python",
   "nbconvert_exporter": "python",
   "pygments_lexer": "ipython3",
   "version": "3.10.9"
  },
  "orig_nbformat": 4
 },
 "nbformat": 4,
 "nbformat_minor": 2
}
